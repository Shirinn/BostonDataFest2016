{
 "cells": [
  {
   "cell_type": "markdown",
   "metadata": {
    "slideshow": {
     "slide_type": "slide"
    }
   },
   "source": [
    "# Finding Causality in Big Data: An Introduction\n"
   ]
  },
  {
   "cell_type": "markdown",
   "metadata": {
    "slideshow": {
     "slide_type": "fragment"
    }
   },
   "source": [
    "### Shirin Mojarad, Ph.D.\n",
    "### Data Scientist, McGraw-Hill Education\n",
    "\n",
    "@shirinmojarad\n",
    "\n",
    "Shirin.mojarad@gmail.com\n",
    "\n",
    "https://github.com/Shirinn/BostonDataFest2016"
   ]
  },
  {
   "cell_type": "markdown",
   "metadata": {
    "slideshow": {
     "slide_type": "slide"
    }
   },
   "source": [
    "# Agenda \n",
    "\n",
    "* Introduction to causality\n",
    "* How to establish causality\n",
    "* Randomized controlled trials\n",
    "* Causal inference\n",
    "* Your Toolkit For Finding Causality"
   ]
  },
  {
   "cell_type": "markdown",
   "metadata": {
    "slideshow": {
     "slide_type": "slide"
    }
   },
   "source": [
    "# Your Toolkit For Finding Causality"
   ]
  },
  {
   "cell_type": "markdown",
   "metadata": {
    "slideshow": {
     "slide_type": "slide"
    }
   },
   "source": [
    "# Why finding causality?\n",
    "\n",
    "### It’s all about relationships\n",
    "\n",
    "### Who's fault is it?"
   ]
  },
  {
   "cell_type": "markdown",
   "metadata": {
    "slideshow": {
     "slide_type": "fragment"
    }
   },
   "source": [
    "\n",
    "* Does getting heath insurance make you healthier?\n",
    "* Does the new curriculum going to help students learn better?\n",
    "* Does the new marketing campaign attract more sales?\n",
    "* Does the new diet help you lose weight?\n"
   ]
  },
  {
   "cell_type": "markdown",
   "metadata": {
    "slideshow": {
     "slide_type": "slide"
    }
   },
   "source": [
    "# Why not correlation\n",
    "\n",
    "* Basis of many scientific hypothesis\n",
    "* Causation imply correlation\n",
    "* Complex correlational designs allow for some limited causal inference\n"
   ]
  },
  {
   "cell_type": "markdown",
   "metadata": {
    "slideshow": {
     "slide_type": "slide"
    }
   },
   "source": [
    "# Correlation Or Causation?\n",
    "\n",
    "* Directionality problem\n",
    "\n",
    "* Third-variable problem\n",
    "\n",
    "\n",
    "<img src='Images/correlation_problems.jpeg' width=400>\n"
   ]
  },
  {
   "cell_type": "markdown",
   "metadata": {
    "slideshow": {
     "slide_type": "slide"
    }
   },
   "source": [
    "# Assumptions in Causality \n",
    "\n",
    "* An effect could have multiple causes\n",
    "* Each cause might have different weights\n",
    "* There might be hidden or unknown causes\n"
   ]
  },
  {
   "cell_type": "markdown",
   "metadata": {
    "slideshow": {
     "slide_type": "slide"
    }
   },
   "source": [
    "# How to establish causality?"
   ]
  },
  {
   "cell_type": "markdown",
   "metadata": {
    "slideshow": {
     "slide_type": "fragment"
    }
   },
   "source": [
    "## Randomized controlled trials (RCT)\n",
    "\n",
    "\n",
    "\n",
    "<img src=\"Images/RCT.jpg\" width=900>\n"
   ]
  },
  {
   "cell_type": "markdown",
   "metadata": {
    "slideshow": {
     "slide_type": "fragment"
    }
   },
   "source": [
    "## Hidden elements\n",
    "\n",
    "* Covariate: any causes, besides treatment, that can affect outcome\n",
    "* Covariate balance: treated and control groups with similar covariate distributions\n"
   ]
  },
  {
   "cell_type": "markdown",
   "metadata": {
    "slideshow": {
     "slide_type": "slide"
    }
   },
   "source": [
    "## Why Randomization?\n",
    "\n",
    "* Randomization balances out all other causes (covariates), besides treatment, between treatment and control groups."
   ]
  },
  {
   "cell_type": "markdown",
   "metadata": {
    "slideshow": {
     "slide_type": "fragment"
    }
   },
   "source": [
    "<img src='Images/covbal.png' width=300>"
   ]
  },
  {
   "cell_type": "markdown",
   "metadata": {
    "slideshow": {
     "slide_type": "slide"
    }
   },
   "source": [
    "# Problems with RCT\n",
    "\n",
    "* Expensive\n",
    "* Bias\n",
    "* Covariate balance\n",
    "* Ethics\n"
   ]
  },
  {
   "cell_type": "markdown",
   "metadata": {
    "slideshow": {
     "slide_type": "slide"
    }
   },
   "source": [
    "# Causal Inference"
   ]
  },
  {
   "cell_type": "markdown",
   "metadata": {
    "slideshow": {
     "slide_type": "fragment"
    }
   },
   "source": [
    "<img src='Images/1.png' width=500>"
   ]
  },
  {
   "cell_type": "markdown",
   "metadata": {
    "slideshow": {
     "slide_type": "fragment"
    }
   },
   "source": [
    "<img src='Images/2.png' width=500>"
   ]
  },
  {
   "cell_type": "markdown",
   "metadata": {
    "slideshow": {
     "slide_type": "fragment"
    }
   },
   "source": [
    "<img src='Images/3.png' width=500>"
   ]
  },
  {
   "cell_type": "markdown",
   "metadata": {
    "slideshow": {
     "slide_type": "fragment"
    }
   },
   "source": [
    "<img src='Images/4.png' width=200>"
   ]
  },
  {
   "cell_type": "markdown",
   "metadata": {
    "slideshow": {
     "slide_type": "slide"
    }
   },
   "source": [
    "# Causal Inference\n",
    "\n",
    "<img src='Images/PSM.jpg' width=500>"
   ]
  },
  {
   "cell_type": "markdown",
   "metadata": {
    "slideshow": {
     "slide_type": "slide"
    }
   },
   "source": [
    "# Causal Inference in 5 Steps\n",
    "\n",
    "<ol type=\"1\">\n",
    "<li>Identify covariates from observational data</li>\n",
    "<li>Choose a matching metric </li>\n",
    "<li>Execute a matching algorithm</li>\n",
    "<li>Examine covariate balance</li>\n",
    "<li>Estimate treatment effects </li>\n",
    "</ol>"
   ]
  },
  {
   "cell_type": "markdown",
   "metadata": {
    "slideshow": {
     "slide_type": "slide"
    }
   },
   "source": [
    "# Data\n",
    "\n",
    "We want to study the effect of a training program on individuals’ earnings.\n",
    "\n",
    "* Data are from the National Supported Work project and Dehejia and Wahba (1999)\n",
    "* Treatment is if a person received training (treatment)\n",
    "* Independent variables are age, education, and married\n",
    "* Outcome is real earnings (RE78)\n",
    "* We need to find matches for the 185 treated observations and then compare outcomes"
   ]
  },
  {
   "cell_type": "markdown",
   "metadata": {
    "slideshow": {
     "slide_type": "slide"
    }
   },
   "source": [
    "## Import required libraries and data"
   ]
  },
  {
   "cell_type": "code",
   "execution_count": 1,
   "metadata": {
    "collapsed": false,
    "slideshow": {
     "slide_type": "fragment"
    }
   },
   "outputs": [],
   "source": [
    "import pandas as pd\n",
    "import numpy as np\n",
    "import statsmodels.stats.api as sms\n",
    "from sklearn.linear_model import LogisticRegression\n",
    "import statsmodels.api as sm\n",
    "import matplotlib.pyplot as plt\n",
    "%matplotlib inline \n",
    "from scipy.stats import binom, hypergeom, gaussian_kde\n",
    "from scipy.stats import ttest_ind\n",
    "import math"
   ]
  },
  {
   "cell_type": "code",
   "execution_count": 2,
   "metadata": {
    "collapsed": false,
    "slideshow": {
     "slide_type": "fragment"
    }
   },
   "outputs": [
    {
     "name": "stdout",
     "output_type": "stream",
     "text": [
      "(2675, 5)\n"
     ]
    },
    {
     "data": {
      "text/html": [
       "<div style=\"max-height:1000px;max-width:1500px;overflow:auto;\">\n",
       "<table border=\"1\" class=\"dataframe\">\n",
       "  <thead>\n",
       "    <tr style=\"text-align: right;\">\n",
       "      <th></th>\n",
       "      <th>TREAT</th>\n",
       "      <th>AGE</th>\n",
       "      <th>EDUC</th>\n",
       "      <th>MARR</th>\n",
       "      <th>EARNINGS</th>\n",
       "    </tr>\n",
       "  </thead>\n",
       "  <tbody>\n",
       "    <tr>\n",
       "      <th>0</th>\n",
       "      <td> 0</td>\n",
       "      <td> 40</td>\n",
       "      <td>  8</td>\n",
       "      <td> 1</td>\n",
       "      <td> 53198.2</td>\n",
       "    </tr>\n",
       "    <tr>\n",
       "      <th>1</th>\n",
       "      <td> 0</td>\n",
       "      <td> 54</td>\n",
       "      <td>  0</td>\n",
       "      <td> 1</td>\n",
       "      <td> 20540.4</td>\n",
       "    </tr>\n",
       "    <tr>\n",
       "      <th>2</th>\n",
       "      <td> 0</td>\n",
       "      <td> 47</td>\n",
       "      <td> 10</td>\n",
       "      <td> 1</td>\n",
       "      <td> 55710.3</td>\n",
       "    </tr>\n",
       "    <tr>\n",
       "      <th>3</th>\n",
       "      <td> 0</td>\n",
       "      <td> 32</td>\n",
       "      <td>  8</td>\n",
       "      <td> 1</td>\n",
       "      <td> 59109.1</td>\n",
       "    </tr>\n",
       "    <tr>\n",
       "      <th>4</th>\n",
       "      <td> 0</td>\n",
       "      <td> 47</td>\n",
       "      <td>  8</td>\n",
       "      <td> 1</td>\n",
       "      <td> 38568.7</td>\n",
       "    </tr>\n",
       "  </tbody>\n",
       "</table>\n",
       "</div>"
      ],
      "text/plain": [
       "   TREAT  AGE  EDUC  MARR  EARNINGS\n",
       "0      0   40     8     1   53198.2\n",
       "1      0   54     0     1   20540.4\n",
       "2      0   47    10     1   55710.3\n",
       "3      0   32     8     1   59109.1\n",
       "4      0   47     8     1   38568.7"
      ]
     },
     "execution_count": 2,
     "metadata": {},
     "output_type": "execute_result"
    }
   ],
   "source": [
    "df = pd.read_csv('matching_earnings.csv')\n",
    "print(df.shape)\n",
    "df.head()"
   ]
  },
  {
   "cell_type": "code",
   "execution_count": 3,
   "metadata": {
    "collapsed": false,
    "slideshow": {
     "slide_type": "fragment"
    }
   },
   "outputs": [
    {
     "data": {
      "text/plain": [
       "TREAT\n",
       "0        2490\n",
       "1         185\n",
       "dtype: int64"
      ]
     },
     "execution_count": 3,
     "metadata": {},
     "output_type": "execute_result"
    }
   ],
   "source": [
    "df.groupby('TREAT').size()"
   ]
  },
  {
   "cell_type": "markdown",
   "metadata": {
    "slideshow": {
     "slide_type": "fragment"
    }
   },
   "source": [
    "Note from the output that not all of the control observations might be used as matches for the 185 treated observations."
   ]
  },
  {
   "cell_type": "markdown",
   "metadata": {
    "slideshow": {
     "slide_type": "slide"
    }
   },
   "source": [
    "## Define treatment, outcome and covariates"
   ]
  },
  {
   "cell_type": "code",
   "execution_count": 4,
   "metadata": {
    "collapsed": false,
    "slideshow": {
     "slide_type": "fragment"
    }
   },
   "outputs": [],
   "source": [
    "# treatment\n",
    "Tr = df.TREAT\n",
    "\n",
    "# outcome\n",
    "Y = df.EARNINGS\n",
    "Y0 = df.EARNINGS[df.TREAT==0]\n",
    "Y1 = df.EARNINGS[df.TREAT==1]\n",
    "\n",
    "# covariates\n",
    "X = df[['AGE', 'EDUC', 'MARR']]"
   ]
  },
  {
   "cell_type": "markdown",
   "metadata": {
    "slideshow": {
     "slide_type": "slide"
    }
   },
   "source": [
    "# 1 Identify covariates from observational data\n",
    "## 1.1 Difference-in-means: outcome variable\n",
    "\n",
    "* Effectiveness of treatment (effect on RE78 expression)\n",
    "* Question: does treatment affect RE78 expression (outcome)?\n"
   ]
  },
  {
   "cell_type": "code",
   "execution_count": 5,
   "metadata": {
    "collapsed": false,
    "slideshow": {
     "slide_type": "fragment"
    }
   },
   "outputs": [
    {
     "data": {
      "text/html": [
       "<div style=\"max-height:1000px;max-width:1500px;overflow:auto;\">\n",
       "<table border=\"1\" class=\"dataframe\">\n",
       "  <thead>\n",
       "    <tr style=\"text-align: right;\">\n",
       "      <th></th>\n",
       "      <th>TREAT</th>\n",
       "      <th>EARNINGS</th>\n",
       "    </tr>\n",
       "  </thead>\n",
       "  <tbody>\n",
       "    <tr>\n",
       "      <th>0</th>\n",
       "      <td> 0</td>\n",
       "      <td> 21553.921332</td>\n",
       "    </tr>\n",
       "    <tr>\n",
       "      <th>1</th>\n",
       "      <td> 1</td>\n",
       "      <td>  6349.145368</td>\n",
       "    </tr>\n",
       "  </tbody>\n",
       "</table>\n",
       "</div>"
      ],
      "text/plain": [
       "   TREAT      EARNINGS\n",
       "0      0  21553.921332\n",
       "1      1   6349.145368"
      ]
     },
     "execution_count": 5,
     "metadata": {},
     "output_type": "execute_result"
    }
   ],
   "source": [
    "df.groupby('TREAT')['EARNINGS'].mean().reset_index()"
   ]
  },
  {
   "cell_type": "code",
   "execution_count": 6,
   "metadata": {
    "collapsed": false,
    "slideshow": {
     "slide_type": "fragment"
    }
   },
   "outputs": [
    {
     "data": {
      "text/plain": [
       "-15204.775964721586"
      ]
     },
     "execution_count": 6,
     "metadata": {},
     "output_type": "execute_result"
    }
   ],
   "source": [
    "# Mean difference \n",
    "Y1.mean() - Y0.mean()"
   ]
  },
  {
   "cell_type": "markdown",
   "metadata": {
    "slideshow": {
     "slide_type": "fragment"
    }
   },
   "source": [
    "It seems that individuals who did not receive training earn $15k on average more than those who received the training."
   ]
  },
  {
   "cell_type": "markdown",
   "metadata": {
    "slideshow": {
     "slide_type": "slide"
    }
   },
   "source": [
    "## 1.2 T-test, significance and effect size\n",
    "\n",
    "###T-test (t)\n",
    "A form of hypothesis testing, testing the difference between two populations averages. The t-value measures the size of the difference relative to the variation in your sample data. \n",
    "\n",
    "\n",
    "### Statistical Significance (p-value)\n",
    "A t-test’s statistical significance indicates whether or not the difference between two groups’ averages most likely reflects a “real” difference in the population from which the groups were sampled.\n",
    "\n",
    "### Effect size (d)\n",
    "\n",
    "Effect size is a quantitative measure of the strength of a relationship. Effect size or Cohen's d is the difference in the two groups' means divided by the average of their standard deviations. \n",
    "\n",
    "\n",
    "<img src=\"Images/d.png\" width=300>\n",
    "\n",
    "where pooled standard deviation is: \n",
    "\n",
    "<img src=\"Images/spooled.png\" width=400>\n",
    "\n",
    "* 0.2 be considered a 'small' effect size\n",
    "* 0.5 represents a 'medium' effect size \n",
    "* 0.8 a 'large' effect size"
   ]
  },
  {
   "cell_type": "code",
   "execution_count": 7,
   "metadata": {
    "collapsed": true,
    "slideshow": {
     "slide_type": "slide"
    }
   },
   "outputs": [],
   "source": [
    "# t-statistic & p-value for difference in outcome of two groups\n",
    "def hypothesisTest(data, attribute, group):\n",
    "    x = data[attribute][df[group]==1]\n",
    "    y = data[attribute][df[group]==0]\n",
    "    # t-statistic & p-value for difference in outcome of two groups\n",
    "    t = ttest_ind(x, y)[0]\n",
    "    p = ttest_ind(x, y)[1]\n",
    "    # Confidence intervals\n",
    "    cm = sms.CompareMeans(sms.DescrStatsW(x), sms.DescrStatsW(y))\n",
    "    CI = str(round(cm.tconfint_diff(usevar='unequal')[0]))+' - '+str(round(cm.tconfint_diff(usevar='unequal')[1]))\n",
    "    # Cohen's d\n",
    "    pooledvar = math.sqrt((pow(x.std(),2) + (pow(y.std(),2)))/2)\n",
    "    d = (x.mean()-y.mean()) / pooledvar\n",
    "    # create dataframe\n",
    "    tablelist = []\n",
    "    tablerow = [attribute,x.mean()-y.mean(),t,p,CI,d]\n",
    "    tablelist.append(tablerow)\n",
    "    out = pd.DataFrame(tablelist)\n",
    "    out.columns = ['Attribute','Mean Difference','t-value','p-value','95% Confidence Intervals',\"Cohen's d\"]\n",
    "\n",
    "    return out"
   ]
  },
  {
   "cell_type": "code",
   "execution_count": 8,
   "metadata": {
    "collapsed": false,
    "slideshow": {
     "slide_type": "fragment"
    }
   },
   "outputs": [
    {
     "data": {
      "text/html": [
       "<div style=\"max-height:1000px;max-width:1500px;overflow:auto;\">\n",
       "<table border=\"1\" class=\"dataframe\">\n",
       "  <thead>\n",
       "    <tr style=\"text-align: right;\">\n",
       "      <th></th>\n",
       "      <th>Attribute</th>\n",
       "      <th>Mean Difference</th>\n",
       "      <th>t-value</th>\n",
       "      <th>p-value</th>\n",
       "      <th>95% Confidence Intervals</th>\n",
       "      <th>Cohen's d</th>\n",
       "    </tr>\n",
       "  </thead>\n",
       "  <tbody>\n",
       "    <tr>\n",
       "      <th>0</th>\n",
       "      <td> EARNINGS</td>\n",
       "      <td>-15204.775965</td>\n",
       "      <td>-13.168705</td>\n",
       "      <td> 2.032910e-38</td>\n",
       "      <td> -16498.0 - -13912.0</td>\n",
       "      <td>-1.233544</td>\n",
       "    </tr>\n",
       "  </tbody>\n",
       "</table>\n",
       "</div>"
      ],
      "text/plain": [
       "  Attribute  Mean Difference    t-value       p-value  \\\n",
       "0  EARNINGS    -15204.775965 -13.168705  2.032910e-38   \n",
       "\n",
       "  95% Confidence Intervals  Cohen's d  \n",
       "0      -16498.0 - -13912.0  -1.233544  "
      ]
     },
     "execution_count": 8,
     "metadata": {},
     "output_type": "execute_result"
    }
   ],
   "source": [
    "hypothesisTest(df, 'EARNINGS', 'TREAT')"
   ]
  },
  {
   "cell_type": "markdown",
   "metadata": {
    "slideshow": {
     "slide_type": "fragment"
    }
   },
   "source": [
    "The difference-in-means is significant and the effect size is large."
   ]
  },
  {
   "cell_type": "markdown",
   "metadata": {
    "slideshow": {
     "slide_type": "slide"
    }
   },
   "source": [
    "# 1.3 Difference-in-means: pre-treatment covariates\n",
    "### We’ll work with the following covariates:\n",
    "\n",
    "* Age\n",
    "* Education\n",
    "* Marriage\n",
    "\n",
    "Let’s get the difference-in-means for each of these covariates, by the treatment status:"
   ]
  },
  {
   "cell_type": "code",
   "execution_count": 9,
   "metadata": {
    "collapsed": false,
    "slideshow": {
     "slide_type": "skip"
    }
   },
   "outputs": [
    {
     "name": "stdout",
     "output_type": "stream",
     "text": [
      "EARNINGS\n"
     ]
    },
    {
     "data": {
      "image/png": "[encoded data removed]",
      "text/plain": [
       "<matplotlib.figure.Figure at 0x10bab7150>"
      ]
     },
     "metadata": {},
     "output_type": "display_data"
    },
    {
     "name": "stdout",
     "output_type": "stream",
     "text": [
      "AGE\n"
     ]
    },
    {
     "data": {
      "image/png": "[encoded data removed]",
      "text/plain": [
       "<matplotlib.figure.Figure at 0x10bab7110>"
      ]
     },
     "metadata": {},
     "output_type": "display_data"
    },
    {
     "name": "stdout",
     "output_type": "stream",
     "text": [
      "EDUC\n"
     ]
    },
    {
     "data": {
      "image/png": "[encoded data removed]",
      "text/plain": [
       "<matplotlib.figure.Figure at 0x10ba98510>"
      ]
     },
     "metadata": {},
     "output_type": "display_data"
    },
    {
     "name": "stdout",
     "output_type": "stream",
     "text": [
      "MARR\n"
     ]
    },
    {
     "data": {
      "image/png": "[encoded data removed]",
      "text/plain": [
       "<matplotlib.figure.Figure at 0x10bd171d0>"
      ]
     },
     "metadata": {},
     "output_type": "display_data"
    }
   ],
   "source": [
    "for att in ['EARNINGS' ,'AGE' , 'EDUC', 'MARR']:\n",
    "    print att\n",
    "    pre = pd.DataFrame({'groups':Tr, 'attribute':df[att]})    \n",
    "\n",
    "    plt.figure(1)\n",
    "    plt.subplot(121)\n",
    "    density0 = gaussian_kde(pre.attribute[pre.groups==0])\n",
    "    density1 = gaussian_kde(pre.attribute[pre.groups==1])\n",
    "    xs = np.linspace(0,df[att].max(),1000)\n",
    "    plt.plot(xs,density0(xs),color='blue')\n",
    "    plt.fill_between(xs,density1(xs),color='gray')\n",
    "    plt.title(att)\n",
    "    plt.xlabel(att)\n",
    "    plt.ylabel('Density')\n",
    "    plt.show()"
   ]
  },
  {
   "cell_type": "code",
   "execution_count": 10,
   "metadata": {
    "collapsed": false,
    "slideshow": {
     "slide_type": "fragment"
    }
   },
   "outputs": [
    {
     "data": {
      "text/html": [
       "<div style=\"max-height:1000px;max-width:1500px;overflow:auto;\">\n",
       "<table border=\"1\" class=\"dataframe\">\n",
       "  <thead>\n",
       "    <tr style=\"text-align: right;\">\n",
       "      <th></th>\n",
       "      <th>TREAT</th>\n",
       "      <th>EARNINGS</th>\n",
       "      <th>AGE</th>\n",
       "      <th>EDUC</th>\n",
       "      <th>MARR</th>\n",
       "    </tr>\n",
       "  </thead>\n",
       "  <tbody>\n",
       "    <tr>\n",
       "      <th>0</th>\n",
       "      <td> 0</td>\n",
       "      <td> 21553.921332</td>\n",
       "      <td> 34.850602</td>\n",
       "      <td> 12.116867</td>\n",
       "      <td> 0.866265</td>\n",
       "    </tr>\n",
       "    <tr>\n",
       "      <th>1</th>\n",
       "      <td> 1</td>\n",
       "      <td>  6349.145368</td>\n",
       "      <td> 25.816216</td>\n",
       "      <td> 10.345946</td>\n",
       "      <td> 0.189189</td>\n",
       "    </tr>\n",
       "  </tbody>\n",
       "</table>\n",
       "</div>"
      ],
      "text/plain": [
       "   TREAT      EARNINGS        AGE       EDUC      MARR\n",
       "0      0  21553.921332  34.850602  12.116867  0.866265\n",
       "1      1   6349.145368  25.816216  10.345946  0.189189"
      ]
     },
     "execution_count": 10,
     "metadata": {},
     "output_type": "execute_result"
    }
   ],
   "source": [
    "df.groupby('TREAT')['EARNINGS','AGE', 'EDUC', 'MARR'].mean().reset_index()"
   ]
  },
  {
   "cell_type": "markdown",
   "metadata": {
    "slideshow": {
     "slide_type": "fragment"
    }
   },
   "source": [
    "* What do you see? Take a moment to reflect on what these differences suggest for the relationship of interest (that between treated and not treated)."
   ]
  },
  {
   "cell_type": "markdown",
   "metadata": {
    "slideshow": {
     "slide_type": "slide"
    }
   },
   "source": [
    "We can carry out t-tests to evaluate whether these means are statistically distinguishable:"
   ]
  },
  {
   "cell_type": "code",
   "execution_count": 11,
   "metadata": {
    "collapsed": false,
    "slideshow": {
     "slide_type": "fragment"
    }
   },
   "outputs": [
    {
     "data": {
      "text/html": [
       "<div style=\"max-height:1000px;max-width:1500px;overflow:auto;\">\n",
       "<table border=\"1\" class=\"dataframe\">\n",
       "  <thead>\n",
       "    <tr style=\"text-align: right;\">\n",
       "      <th></th>\n",
       "      <th>Attribute</th>\n",
       "      <th>Mean Difference</th>\n",
       "      <th>t-value</th>\n",
       "      <th>p-value</th>\n",
       "      <th>95% Confidence Intervals</th>\n",
       "      <th>Cohen's d</th>\n",
       "    </tr>\n",
       "  </thead>\n",
       "  <tbody>\n",
       "    <tr>\n",
       "      <th>0</th>\n",
       "      <td> EARNINGS</td>\n",
       "      <td>-15204.775965</td>\n",
       "      <td>-13.168705</td>\n",
       "      <td>  2.032910e-38</td>\n",
       "      <td> -16498.0 - -13912.0</td>\n",
       "      <td>-1.233544</td>\n",
       "    </tr>\n",
       "    <tr>\n",
       "      <th>0</th>\n",
       "      <td>      AGE</td>\n",
       "      <td>    -9.034386</td>\n",
       "      <td>-11.568216</td>\n",
       "      <td>  3.094941e-30</td>\n",
       "      <td>        -10.0 - -8.0</td>\n",
       "      <td>-1.009433</td>\n",
       "    </tr>\n",
       "    <tr>\n",
       "      <th>0</th>\n",
       "      <td>     EDUC</td>\n",
       "      <td>    -1.770922</td>\n",
       "      <td> -7.692919</td>\n",
       "      <td>  2.007808e-14</td>\n",
       "      <td>         -2.0 - -1.0</td>\n",
       "      <td>-0.680517</td>\n",
       "    </tr>\n",
       "    <tr>\n",
       "      <th>0</th>\n",
       "      <td>     MARR</td>\n",
       "      <td>    -0.677076</td>\n",
       "      <td>-25.806985</td>\n",
       "      <td> 2.561532e-131</td>\n",
       "      <td>         -1.0 - -1.0</td>\n",
       "      <td>-1.842335</td>\n",
       "    </tr>\n",
       "  </tbody>\n",
       "</table>\n",
       "</div>"
      ],
      "text/plain": [
       "  Attribute  Mean Difference    t-value        p-value  \\\n",
       "0  EARNINGS    -15204.775965 -13.168705   2.032910e-38   \n",
       "0       AGE        -9.034386 -11.568216   3.094941e-30   \n",
       "0      EDUC        -1.770922  -7.692919   2.007808e-14   \n",
       "0      MARR        -0.677076 -25.806985  2.561532e-131   \n",
       "\n",
       "  95% Confidence Intervals  Cohen's d  \n",
       "0      -16498.0 - -13912.0  -1.233544  \n",
       "0             -10.0 - -8.0  -1.009433  \n",
       "0              -2.0 - -1.0  -0.680517  \n",
       "0              -1.0 - -1.0  -1.842335  "
      ]
     },
     "execution_count": 11,
     "metadata": {},
     "output_type": "execute_result"
    }
   ],
   "source": [
    "b = pd.DataFrame()\n",
    "for att in ['EARNINGS','AGE', 'EDUC', 'MARR']:\n",
    "    a = []\n",
    "    a = hypothesisTest(df, att, 'TREAT')\n",
    "    b = pd.concat([b,a],0)\n",
    "b"
   ]
  },
  {
   "cell_type": "markdown",
   "metadata": {
    "collapsed": false,
    "slideshow": {
     "slide_type": "slide"
    }
   },
   "source": [
    "## 2 Choose a matching metric\n",
    "\n",
    "Matching methods examine how to best choose treated and control subjects for comparison. \n",
    "\n",
    "#### Propensity score matching\n",
    "\n",
    "Matching treated and control subjects using propensity score:\n",
    "\n",
    "                                    P(X) = Pr (Tr=1|X)\n",
    "\n",
    "#### Mahalanobis distance matching\n",
    "\n",
    "Matching treated and control subjects using Mahalanobis distance. Mahalanobis distance between two vectors, x and y, where S is the covariance matrix is:\n",
    "\n",
    "<img src='Images/MD.png' width=200> \n",
    "\n",
    "\n",
    "\n"
   ]
  },
  {
   "cell_type": "markdown",
   "metadata": {
    "slideshow": {
     "slide_type": "slide"
    }
   },
   "source": [
    "## 2.1 Propensity score matching\n",
    "\n",
    "Match treated and untreated observations on the estimated probability of being treated (propensity score)\n",
    "\n",
    "P(X) = Pr (Tr=1|X)\n",
    "\n",
    "We can estimate the propensity scores using logistic regression."
   ]
  },
  {
   "cell_type": "code",
   "execution_count": 12,
   "metadata": {
    "collapsed": false,
    "slideshow": {
     "slide_type": "skip"
    }
   },
   "outputs": [
    {
     "data": {
      "text/plain": [
       "array([ 0.02326526,  0.05967483,  0.00852138, ...,  0.31592987,\n",
       "        0.22350654,  0.01377988])"
      ]
     },
     "execution_count": 12,
     "metadata": {},
     "output_type": "execute_result"
    }
   ],
   "source": [
    "####### Using LogisticRegression from sklearn.linear_model    \n",
    "propensity = LogisticRegression()\n",
    "propensity.fit(X, Tr)\n",
    "propensityScoreLR = propensity.predict_proba(X)[:,1]\n",
    "propensityScoreLR"
   ]
  },
  {
   "cell_type": "code",
   "execution_count": 13,
   "metadata": {
    "collapsed": false,
    "slideshow": {
     "slide_type": "skip"
    }
   },
   "outputs": [
    {
     "name": "stdout",
     "output_type": "stream",
     "text": [
      "Index([u'TREAT', u'AGE', u'EDUC', u'MARR', u'EARNINGS'], dtype='object')\n",
      "(2675, 5)\n"
     ]
    }
   ],
   "source": [
    "df = pd.read_csv('matching_earnings.csv')\n",
    "print df.columns\n",
    "print df.shape"
   ]
  },
  {
   "cell_type": "code",
   "execution_count": 14,
   "metadata": {
    "collapsed": false,
    "slideshow": {
     "slide_type": "fragment"
    }
   },
   "outputs": [
    {
     "name": "stdout",
     "output_type": "stream",
     "text": [
      "\n",
      "Propensity Scores added: \n"
     ]
    },
    {
     "data": {
      "text/html": [
       "<div style=\"max-height:1000px;max-width:1500px;overflow:auto;\">\n",
       "<table border=\"1\" class=\"dataframe\">\n",
       "  <thead>\n",
       "    <tr style=\"text-align: right;\">\n",
       "      <th></th>\n",
       "      <th>TREAT</th>\n",
       "      <th>AGE</th>\n",
       "      <th>EDUCATION</th>\n",
       "      <th>MARRIAGE</th>\n",
       "      <th>EARNINGS</th>\n",
       "      <th>Propensity Score</th>\n",
       "    </tr>\n",
       "  </thead>\n",
       "  <tbody>\n",
       "    <tr>\n",
       "      <th>0</th>\n",
       "      <td> 0</td>\n",
       "      <td> 40</td>\n",
       "      <td>  8</td>\n",
       "      <td> 1</td>\n",
       "      <td> 53198.2</td>\n",
       "      <td> 0.017519</td>\n",
       "    </tr>\n",
       "    <tr>\n",
       "      <th>1</th>\n",
       "      <td> 0</td>\n",
       "      <td> 54</td>\n",
       "      <td>  0</td>\n",
       "      <td> 1</td>\n",
       "      <td> 20540.4</td>\n",
       "      <td> 0.019986</td>\n",
       "    </tr>\n",
       "    <tr>\n",
       "      <th>2</th>\n",
       "      <td> 0</td>\n",
       "      <td> 47</td>\n",
       "      <td> 10</td>\n",
       "      <td> 1</td>\n",
       "      <td> 55710.3</td>\n",
       "      <td> 0.014304</td>\n",
       "    </tr>\n",
       "    <tr>\n",
       "      <th>3</th>\n",
       "      <td> 0</td>\n",
       "      <td> 32</td>\n",
       "      <td>  8</td>\n",
       "      <td> 1</td>\n",
       "      <td> 59109.1</td>\n",
       "      <td> 0.019931</td>\n",
       "    </tr>\n",
       "    <tr>\n",
       "      <th>4</th>\n",
       "      <td> 0</td>\n",
       "      <td> 47</td>\n",
       "      <td>  8</td>\n",
       "      <td> 1</td>\n",
       "      <td> 38568.7</td>\n",
       "      <td> 0.015646</td>\n",
       "    </tr>\n",
       "  </tbody>\n",
       "</table>\n",
       "</div>"
      ],
      "text/plain": [
       "   TREAT  AGE  EDUCATION  MARRIAGE  EARNINGS  Propensity Score\n",
       "0      0   40          8         1   53198.2          0.017519\n",
       "1      0   54          0         1   20540.4          0.019986\n",
       "2      0   47         10         1   55710.3          0.014304\n",
       "3      0   32          8         1   59109.1          0.019931\n",
       "4      0   47          8         1   38568.7          0.015646"
      ]
     },
     "execution_count": 14,
     "metadata": {},
     "output_type": "execute_result"
    }
   ],
   "source": [
    "####### Using GLM\n",
    "import statsmodels.genmod.generalized_linear_model as sm\n",
    "glm_binom = sm.GLM(Tr, X, family=sm.families.Binomial())\n",
    "res = glm_binom.fit()\n",
    "# print res.summary()\n",
    "propensityScoreGLM = res.fittedvalues\n",
    "df = pd.concat([df,propensityScoreGLM],1)\n",
    "df.columns = ['TREAT','AGE','EDUCATION','MARRIAGE','EARNINGS' , 'Propensity Score']\n",
    "print '\\n'+ 'Propensity Scores added: '\n",
    "df.head()"
   ]
  },
  {
   "cell_type": "markdown",
   "metadata": {
    "collapsed": true,
    "slideshow": {
     "slide_type": "slide"
    }
   },
   "source": [
    "## 3 Execute a matching algorithm\n",
    "\n",
    "There are several variants of matching: \n",
    "* one-to-one matching\n",
    "* one-to-many matching \n",
    "* with or without a caliper, and with or without replacement\n",
    "\n",
    "Variants of the methods are examined in the following paper:\n",
    "\n",
    "</br> Austin, P. C. (2014), A comparison of 12 algorithms for matching on the propensity score. Statist. Med., 33: 1057–1069. doi: 10.1002/sim.6004"
   ]
  },
  {
   "cell_type": "code",
   "execution_count": 16,
   "metadata": {
    "collapsed": false,
    "slideshow": {
     "slide_type": "slide"
    }
   },
   "outputs": [
    {
     "name": "stdout",
     "output_type": "stream",
     "text": [
      "Sample matches: \n"
     ]
    },
    {
     "data": {
      "text/plain": [
       "{2560: 241, 2561: 264, 2562: 323, 2563: 2343, 2564: 2107}"
      ]
     },
     "execution_count": 16,
     "metadata": {},
     "output_type": "execute_result"
    }
   ],
   "source": [
    "# one-to-one matching\n",
    "N = len(Tr)\n",
    "N1 = Tr[Tr == 1].index; N2 = Tr[Tr == 0].index\n",
    "g1, g2 = propensityScoreGLM[Tr == 1], propensityScoreGLM[Tr == 0]\n",
    "\n",
    "## Check if treatment groups got flipped - the smaller should correspond to N1/g1\n",
    "if len(N1) > len(N2):\n",
    "   N1, N2, g1, g2 = N2, N1, g2, g1\n",
    "\n",
    "## match treatment and control group\n",
    "matches = {}\n",
    "caliper = 0.05\n",
    "replace = False\n",
    "\n",
    "for m in N1:\n",
    "    dist = abs(g1[m] - g2)\n",
    "    if (dist.min() <= caliper) or not caliper:\n",
    "            matches[m] = dist.argmin()  \n",
    "            if not replace:\n",
    "                g2 = g2.drop(matches[m])\n",
    "\n",
    "print 'Sample matches: '\n",
    "{k: matches[k] for k in matches.keys()[:5]}"
   ]
  },
  {
   "cell_type": "code",
   "execution_count": 17,
   "metadata": {
    "collapsed": false,
    "slideshow": {
     "slide_type": "fragment"
    }
   },
   "outputs": [
    {
     "data": {
      "text/html": [
       "<div style=\"max-height:1000px;max-width:1500px;overflow:auto;\">\n",
       "<table border=\"1\" class=\"dataframe\">\n",
       "  <thead>\n",
       "    <tr style=\"text-align: right;\">\n",
       "      <th></th>\n",
       "      <th>TREAT</th>\n",
       "      <th>0</th>\n",
       "    </tr>\n",
       "  </thead>\n",
       "  <tbody>\n",
       "    <tr>\n",
       "      <th>0</th>\n",
       "      <td> 0</td>\n",
       "      <td> 179</td>\n",
       "    </tr>\n",
       "    <tr>\n",
       "      <th>1</th>\n",
       "      <td> 1</td>\n",
       "      <td> 179</td>\n",
       "    </tr>\n",
       "  </tbody>\n",
       "</table>\n",
       "</div>"
      ],
      "text/plain": [
       "   TREAT    0\n",
       "0      0  179\n",
       "1      1  179"
      ]
     },
     "execution_count": 17,
     "metadata": {},
     "output_type": "execute_result"
    }
   ],
   "source": [
    "# Matched data:\n",
    "tr = matches.keys()\n",
    "ctrl = matches.values()\n",
    "temp = pd.concat([df.ix[tr],df.ix[ctrl]])\n",
    "df_matched = temp.groupby(temp.index).first()\n",
    "df_matched.groupby('TREAT').size().reset_index()"
   ]
  },
  {
   "cell_type": "markdown",
   "metadata": {
    "slideshow": {
     "slide_type": "slide"
    }
   },
   "source": [
    "## 4 Examine covariate balance\n",
    "### 4.1 Visual inspection\n",
    "\n",
    "Plot density of propensity scores and covariates for each group before and after matching"
   ]
  },
  {
   "cell_type": "code",
   "execution_count": 18,
   "metadata": {
    "collapsed": false,
    "slideshow": {
     "slide_type": "slide"
    }
   },
   "outputs": [],
   "source": [
    "def plotMatching(data, attribute, groups, matches):\n",
    "    pre = pd.DataFrame({'groups':data[groups], 'propensity':data[attribute]})    \n",
    "\n",
    "    tr = matches.keys()\n",
    "    ctrl = matches.values()\n",
    "    temp = pd.concat([pre.ix[tr], pre.ix[ctrl]])\n",
    "    post = temp.groupby(temp.index).first()\n",
    "\n",
    "\n",
    "    plt.figure(1)\n",
    "    plt.subplot(121)\n",
    "    density0 = gaussian_kde(pre.propensity[pre.groups==0])\n",
    "    density1 = gaussian_kde(pre.propensity[pre.groups==1])\n",
    "    xs = np.linspace(0,data[attribute].max(),1000)\n",
    "    plt.plot(xs,density0(xs),color='blue')\n",
    "    plt.fill_between(xs,density1(xs),color='gray')\n",
    "    plt.title('Before Matching')\n",
    "    plt.xlabel(att)\n",
    "    plt.ylabel('Density')\n",
    "\n",
    "    plt.subplot(122)\n",
    "    density0_post = gaussian_kde(post.propensity[post.groups==0])\n",
    "    density1_post = gaussian_kde(post.propensity[post.groups==1])\n",
    "    xs = np.linspace(0,data[attribute].max(),1000)\n",
    "    plt.plot(xs,density0_post(xs),color='blue')\n",
    "    plt.fill_between(xs,density1_post(xs),color='gray')\n",
    "    plt.title('After Matching')\n",
    "    plt.xlabel(att)\n",
    "    plt.ylabel('Density')\n",
    "    plt.show()"
   ]
  },
  {
   "cell_type": "code",
   "execution_count": 19,
   "metadata": {
    "collapsed": false
   },
   "outputs": [
    {
     "data": {
      "image/png": "[encoded data removed]",
      "text/plain": [
       "<matplotlib.figure.Figure at 0x105fbe9d0>"
      ]
     },
     "metadata": {},
     "output_type": "display_data"
    },
    {
     "data": {
      "image/png": "[encoded data removed]",
      "text/plain": [
       "<matplotlib.figure.Figure at 0x105fbee10>"
      ]
     },
     "metadata": {},
     "output_type": "display_data"
    },
    {
     "data": {
      "image/png": "[encoded data removed]",
      "text/plain": [
       "<matplotlib.figure.Figure at 0x10c346490>"
      ]
     },
     "metadata": {},
     "output_type": "display_data"
    },
    {
     "data": {
      "image/png": "[encoded data removed]",
      "text/plain": [
       "<matplotlib.figure.Figure at 0x10c346dd0>"
      ]
     },
     "metadata": {},
     "output_type": "display_data"
    },
    {
     "data": {
      "text/html": [
       "<font color='#666666'>Gray = Treatment Group</font><br><font color='6666ff'>Blue = Control Group </font>"
      ],
      "text/plain": [
       "<IPython.core.display.HTML object>"
      ]
     },
     "execution_count": 19,
     "metadata": {},
     "output_type": "execute_result"
    }
   ],
   "source": [
    "for att in ['Propensity Score','AGE', 'EDUCATION', 'MARRIAGE']:\n",
    "    plotMatching(df, att, 'TREAT', matches)\n",
    "from IPython.display import HTML\n",
    "HTML(\"<font color='#666666'>Gray = Treatment Group</font><br>\"\n",
    "     \"<font color='6666ff'>Blue = Control Group </font>\")"
   ]
  },
  {
   "cell_type": "markdown",
   "metadata": {
    "slideshow": {
     "slide_type": "slide"
    }
   },
   "source": [
    "### 4.2 Difference-in-means"
   ]
  },
  {
   "cell_type": "code",
   "execution_count": 20,
   "metadata": {
    "collapsed": false,
    "slideshow": {
     "slide_type": "fragment"
    }
   },
   "outputs": [],
   "source": [
    "def balanceCheck(data, attribute, group):\n",
    "    means = data[[group, attribute]].groupby(group).mean().reset_index()\n",
    "    dist = abs(means.diff()).ix[1]\n",
    "    std = data[[group, attribute]].groupby(group).std().reset_index()\n",
    "    n = data[group].value_counts()\n",
    "    se = std.apply(lambda(s): np.sqrt(s[0]**2/n[0] + s[1]**2/n[1]))\n",
    "    tablelist = []\n",
    "    tablerow = [attribute,dist[1],se[1]]\n",
    "    tablelist.append(tablerow)\n",
    "    out = pd.DataFrame(tablelist)\n",
    "    out.columns = ['Attribute','difference of means by group','Standard error for covariates by group']\n",
    "    return out"
   ]
  },
  {
   "cell_type": "code",
   "execution_count": 21,
   "metadata": {
    "collapsed": false,
    "slideshow": {
     "slide_type": "fragment"
    }
   },
   "outputs": [
    {
     "data": {
      "text/html": [
       "<div style=\"max-height:1000px;max-width:1500px;overflow:auto;\">\n",
       "<table border=\"1\" class=\"dataframe\">\n",
       "  <thead>\n",
       "    <tr style=\"text-align: right;\">\n",
       "      <th></th>\n",
       "      <th>Attribute</th>\n",
       "      <th>difference of means by group</th>\n",
       "      <th>Standard error for covariates by group</th>\n",
       "    </tr>\n",
       "  </thead>\n",
       "  <tbody>\n",
       "    <tr>\n",
       "      <th>0</th>\n",
       "      <td>  EARNINGS</td>\n",
       "      <td> 15204.775965</td>\n",
       "      <td> 657.076476</td>\n",
       "    </tr>\n",
       "    <tr>\n",
       "      <th>0</th>\n",
       "      <td>       AGE</td>\n",
       "      <td>     9.034386</td>\n",
       "      <td>   0.566131</td>\n",
       "    </tr>\n",
       "    <tr>\n",
       "      <th>0</th>\n",
       "      <td> EDUCATION</td>\n",
       "      <td>     1.770922</td>\n",
       "      <td>   0.160213</td>\n",
       "    </tr>\n",
       "    <tr>\n",
       "      <th>0</th>\n",
       "      <td>  MARRIAGE</td>\n",
       "      <td>     0.677076</td>\n",
       "      <td>   0.029669</td>\n",
       "    </tr>\n",
       "  </tbody>\n",
       "</table>\n",
       "</div>"
      ],
      "text/plain": [
       "   Attribute  difference of means by group  \\\n",
       "0   EARNINGS                  15204.775965   \n",
       "0        AGE                      9.034386   \n",
       "0  EDUCATION                      1.770922   \n",
       "0   MARRIAGE                      0.677076   \n",
       "\n",
       "   Standard error for covariates by group  \n",
       "0                              657.076476  \n",
       "0                                0.566131  \n",
       "0                                0.160213  \n",
       "0                                0.029669  "
      ]
     },
     "execution_count": 21,
     "metadata": {},
     "output_type": "execute_result"
    }
   ],
   "source": [
    "b = pd.DataFrame()\n",
    "for att in ['EARNINGS','AGE', 'EDUCATION', 'MARRIAGE']:\n",
    "    a = []\n",
    "    a = balanceCheck(df, att, 'TREAT')\n",
    "    b = pd.concat([b,a],0)\n",
    "b"
   ]
  },
  {
   "cell_type": "code",
   "execution_count": 22,
   "metadata": {
    "collapsed": false,
    "slideshow": {
     "slide_type": "slide"
    }
   },
   "outputs": [
    {
     "data": {
      "text/html": [
       "<div style=\"max-height:1000px;max-width:1500px;overflow:auto;\">\n",
       "<table border=\"1\" class=\"dataframe\">\n",
       "  <thead>\n",
       "    <tr style=\"text-align: right;\">\n",
       "      <th></th>\n",
       "      <th>Attribute</th>\n",
       "      <th>Mean Difference</th>\n",
       "      <th>t-value</th>\n",
       "      <th>p-value</th>\n",
       "      <th>95% Confidence Intervals</th>\n",
       "      <th>Cohen's d</th>\n",
       "    </tr>\n",
       "  </thead>\n",
       "  <tbody>\n",
       "    <tr>\n",
       "      <th>0</th>\n",
       "      <td>  EARNINGS</td>\n",
       "      <td>-7931.365609</td>\n",
       "      <td>-7.855315</td>\n",
       "      <td> 4.759491e-14</td>\n",
       "      <td> -9918.0 - -5945.0</td>\n",
       "      <td>-0.830333</td>\n",
       "    </tr>\n",
       "    <tr>\n",
       "      <th>0</th>\n",
       "      <td>       AGE</td>\n",
       "      <td>   -0.055866</td>\n",
       "      <td>-0.074906</td>\n",
       "      <td> 9.403318e-01</td>\n",
       "      <td>        -2.0 - 1.0</td>\n",
       "      <td>-0.007918</td>\n",
       "    </tr>\n",
       "    <tr>\n",
       "      <th>0</th>\n",
       "      <td> EDUCATION</td>\n",
       "      <td>   -0.391061</td>\n",
       "      <td>-1.745422</td>\n",
       "      <td> 8.177423e-02</td>\n",
       "      <td>        -1.0 - 0.0</td>\n",
       "      <td>-0.184497</td>\n",
       "    </tr>\n",
       "    <tr>\n",
       "      <th>0</th>\n",
       "      <td>  MARRIAGE</td>\n",
       "      <td>    0.000000</td>\n",
       "      <td> 0.000000</td>\n",
       "      <td> 1.000000e+00</td>\n",
       "      <td>        -0.0 - 0.0</td>\n",
       "      <td> 0.000000</td>\n",
       "    </tr>\n",
       "  </tbody>\n",
       "</table>\n",
       "</div>"
      ],
      "text/plain": [
       "   Attribute  Mean Difference   t-value       p-value  \\\n",
       "0   EARNINGS     -7931.365609 -7.855315  4.759491e-14   \n",
       "0        AGE        -0.055866 -0.074906  9.403318e-01   \n",
       "0  EDUCATION        -0.391061 -1.745422  8.177423e-02   \n",
       "0   MARRIAGE         0.000000  0.000000  1.000000e+00   \n",
       "\n",
       "  95% Confidence Intervals  Cohen's d  \n",
       "0        -9918.0 - -5945.0  -0.830333  \n",
       "0               -2.0 - 1.0  -0.007918  \n",
       "0               -1.0 - 0.0  -0.184497  \n",
       "0               -0.0 - 0.0   0.000000  "
      ]
     },
     "execution_count": 22,
     "metadata": {},
     "output_type": "execute_result"
    }
   ],
   "source": [
    "b = pd.DataFrame()\n",
    "for att in ['EARNINGS','AGE', 'EDUCATION', 'MARRIAGE']:\n",
    "    a = []\n",
    "    a = hypothesisTest(df_matched, att, 'TREAT')\n",
    "    b = pd.concat([b,a],0)\n",
    "b"
   ]
  },
  {
   "cell_type": "markdown",
   "metadata": {
    "slideshow": {
     "slide_type": "fragment"
    }
   },
   "source": [
    "Difference in means for covariates is not significant anymore and the effect sizes are negligible."
   ]
  },
  {
   "cell_type": "markdown",
   "metadata": {
    "slideshow": {
     "slide_type": "slide"
    }
   },
   "source": [
    "## 5 Estimate treatment effects\n",
    "\n",
    "Estimate average treatment effect  on the treated\n",
    "\n",
    "### 5.1 Computes ATT using difference in means"
   ]
  },
  {
   "cell_type": "code",
   "execution_count": 23,
   "metadata": {
    "collapsed": false,
    "slideshow": {
     "slide_type": "fragment"
    }
   },
   "outputs": [
    {
     "data": {
      "text/plain": [
       "-7931.3656089385468"
      ]
     },
     "execution_count": 23,
     "metadata": {},
     "output_type": "execute_result"
    }
   ],
   "source": [
    "# Matched outcome\n",
    "Y0_matched = df_matched.EARNINGS[df.TREAT == 0]\n",
    "Y1_matched = df_matched.EARNINGS[df.TREAT == 1]\n",
    "\n",
    "Y1_matched.mean() - Y0_matched.mean()"
   ]
  },
  {
   "cell_type": "markdown",
   "metadata": {
    "slideshow": {
     "slide_type": "slide"
    }
   },
   "source": [
    "@shirinmojarad\n",
    "\n",
    "Shirin.mojarad@gmail.com\n",
    "\n",
    "https://github.com/Shirinn/BostonDataFest2016"
   ]
  }
 ],
 "metadata": {
  "celltoolbar": "Slideshow",
  "kernelspec": {
   "display_name": "Python 2",
   "language": "python",
   "name": "python2"
  },
  "language_info": {
   "codemirror_mode": {
    "name": "ipython",
    "version": 2
   },
   "file_extension": ".py",
   "mimetype": "text/x-python",
   "name": "python",
   "nbconvert_exporter": "python",
   "pygments_lexer": "ipython2",
   "version": "2.7.10"
  }
 },
 "nbformat": 4,
 "nbformat_minor": 0
}
